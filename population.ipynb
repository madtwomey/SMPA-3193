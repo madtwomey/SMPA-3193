{
 "cells": [
  {
   "cell_type": "code",
   "execution_count": 1,
   "metadata": {
    "collapsed": false
   },
   "outputs": [
    {
     "name": "stderr",
     "output_type": "stream",
     "text": [
      "/System/Library/Frameworks/Python.framework/Versions/2.7/lib/python2.7/json/encoder.py:207: DeprecationWarning: Interpreting naive datetime as local 2017-03-06 19:27:57.799856. Please add timezone info to timestamps.\n"
     ]
    }
   ],
   "source": [
    "import agate"
   ]
  },
  {
   "cell_type": "code",
   "execution_count": 4,
   "metadata": {
    "collapsed": false
   },
   "outputs": [
    {
     "name": "stderr",
     "output_type": "stream",
     "text": [
      "/System/Library/Frameworks/Python.framework/Versions/2.7/lib/python2.7/json/encoder.py:207: DeprecationWarning: Interpreting naive datetime as local 2017-03-06 19:30:19.674038. Please add timezone info to timestamps.\n"
     ]
    }
   ],
   "source": [
    "counties = agate.Table.from_csv(\"county_population.csv\")"
   ]
  },
  {
   "cell_type": "code",
   "execution_count": 5,
   "metadata": {
    "collapsed": false
   },
   "outputs": [
    {
     "name": "stdout",
     "output_type": "stream",
     "text": [
      "| column        | data_type |\n",
      "| ------------- | --------- |\n",
      "| county        | Text      |\n",
      "| state         | Text      |\n",
      "| estimate_2010 | Number    |\n",
      "| estimate_2011 | Number    |\n",
      "| estimate_2012 | Number    |\n",
      "| estimate_2013 | Number    |\n",
      "| estimate_2014 | Number    |\n",
      "| estimate_2015 | Number    |\n",
      "\n"
     ]
    },
    {
     "name": "stderr",
     "output_type": "stream",
     "text": [
      "/System/Library/Frameworks/Python.framework/Versions/2.7/lib/python2.7/json/encoder.py:207: DeprecationWarning: Interpreting naive datetime as local 2017-03-06 19:30:38.922932. Please add timezone info to timestamps.\n"
     ]
    }
   ],
   "source": [
    "print counties"
   ]
  },
  {
   "cell_type": "code",
   "execution_count": 6,
   "metadata": {
    "collapsed": false
   },
   "outputs": [
    {
     "name": "stderr",
     "output_type": "stream",
     "text": [
      "/System/Library/Frameworks/Python.framework/Versions/2.7/lib/python2.7/json/encoder.py:207: DeprecationWarning: Interpreting naive datetime as local 2017-03-06 19:31:10.007166. Please add timezone info to timestamps.\n"
     ]
    }
   ],
   "source": [
    "popchange1016 = counties.compute([\n",
    "    ('change', agate.PercentChange('estimate_2010', 'estimate_2015'))\n",
    "])"
   ]
  },
  {
   "cell_type": "code",
   "execution_count": 7,
   "metadata": {
    "collapsed": false
   },
   "outputs": [
    {
     "name": "stdout",
     "output_type": "stream",
     "text": [
      "1.256860592755214050493962678\n"
     ]
    },
    {
     "name": "stderr",
     "output_type": "stream",
     "text": [
      "/System/Library/Frameworks/Python.framework/Versions/2.7/lib/python2.7/json/encoder.py:207: DeprecationWarning: Interpreting naive datetime as local 2017-03-06 19:31:20.988789. Please add timezone info to timestamps.\n"
     ]
    }
   ],
   "source": [
    "print popchange1016[0]['change']"
   ]
  },
  {
   "cell_type": "code",
   "execution_count": 9,
   "metadata": {
    "collapsed": false
   },
   "outputs": [
    {
     "name": "stderr",
     "output_type": "stream",
     "text": [
      "/System/Library/Frameworks/Python.framework/Versions/2.7/lib/python2.7/json/encoder.py:207: DeprecationWarning: Interpreting naive datetime as local 2017-03-06 19:31:53.888074. Please add timezone info to timestamps.\n"
     ]
    }
   ],
   "source": [
    "from decimal import Decimal"
   ]
  },
  {
   "cell_type": "code",
   "execution_count": 10,
   "metadata": {
    "collapsed": false
   },
   "outputs": [
    {
     "name": "stderr",
     "output_type": "stream",
     "text": [
      "/System/Library/Frameworks/Python.framework/Versions/2.7/lib/python2.7/json/encoder.py:207: DeprecationWarning: Interpreting naive datetime as local 2017-03-06 19:31:58.209719. Please add timezone info to timestamps.\n"
     ]
    }
   ],
   "source": [
    "def round_change(row):\n",
    "    return row['change'].quantize(Decimal('0.1'))"
   ]
  },
  {
   "cell_type": "code",
   "execution_count": 11,
   "metadata": {
    "collapsed": false
   },
   "outputs": [
    {
     "name": "stderr",
     "output_type": "stream",
     "text": [
      "/System/Library/Frameworks/Python.framework/Versions/2.7/lib/python2.7/json/encoder.py:207: DeprecationWarning: Interpreting naive datetime as local 2017-03-06 19:32:11.256913. Please add timezone info to timestamps.\n"
     ]
    }
   ],
   "source": [
    "rounded_change = popchange1016.compute([\n",
    "    ('change_rounded', agate.Formula(agate.Number(), round_change))\n",
    "])"
   ]
  },
  {
   "cell_type": "code",
   "execution_count": 13,
   "metadata": {
    "collapsed": false
   },
   "outputs": [
    {
     "name": "stdout",
     "output_type": "stream",
     "text": [
      "1.3\n"
     ]
    },
    {
     "name": "stderr",
     "output_type": "stream",
     "text": [
      "/System/Library/Frameworks/Python.framework/Versions/2.7/lib/python2.7/json/encoder.py:207: DeprecationWarning: Interpreting naive datetime as local 2017-03-06 19:32:38.776499. Please add timezone info to timestamps.\n"
     ]
    }
   ],
   "source": [
    "print rounded_change[0]['change_rounded']"
   ]
  },
  {
   "cell_type": "code",
   "execution_count": 15,
   "metadata": {
    "collapsed": false
   },
   "outputs": [
    {
     "name": "stdout",
     "output_type": "stream",
     "text": [
      "| county              | state          | change_rounded |\n",
      "| ------------------- | -------------- | -------------- |\n",
      "| McKenzie County     | North Dakota   |          100.4 |\n",
      "| Williams County     | North Dakota   |           56.3 |\n",
      "| Loving County       | Texas          |           34.9 |\n",
      "| Mountrail County    | North Dakota   |           33.8 |\n",
      "| Stark County        | North Dakota   |           32.0 |\n",
      "| Dunn County         | North Dakota   |           31.2 |\n",
      "| Sumter County       | Florida        |           26.1 |\n",
      "| Wasatch County      | Utah           |           23.4 |\n",
      "| St. Bernard Parish  | Louisiana      |           23.4 |\n",
      "| Hays County         | Texas          |           23.0 |\n",
      "| Richland County     | Montana        |           22.7 |\n",
      "| Andrews County      | Texas          |           22.0 |\n",
      "| Billings County     | North Dakota   |           21.4 |\n",
      "| Fort Bend County    | Texas          |           21.3 |\n",
      "| Long County         | Georgia        |           20.7 |\n",
      "| Forsyth County      | Georgia        |           20.2 |\n",
      "| Dallas County       | Iowa           |           20.1 |\n",
      "| Osceola County      | Florida        |           20.1 |\n",
      "| Kendall County      | Texas          |           20.0 |\n",
      "| Williamson County   | Texas          |           19.2 |\n",
      "| Loudoun County      | Virginia       |           19.0 |\n",
      "| Sterling County     | Texas          |           18.8 |\n",
      "| St. Johns County    | Florida        |           18.5 |\n",
      "| Comal County        | Texas          |           18.1 |\n",
      "| Divide County       | North Dakota   |           17.9 |\n",
      "| Burke County        | North Dakota   |           17.8 |\n",
      "| Midland County      | Texas          |           17.6 |\n",
      "| Martin County       | Texas          |           17.1 |\n",
      "| Denton County       | Texas          |           17.0 |\n",
      "| Montgomery County   | Texas          |           17.0 |\n",
      "| Lincoln County      | South Dakota   |           17.0 |\n",
      "| Uintah County       | Utah           |           16.9 |\n",
      "| Ector County        | Texas          |           16.3 |\n",
      "| Fredericksburg city | Virginia       |           16.2 |\n",
      "| Morgan County       | Utah           |           16.1 |\n",
      "| Collin County       | Texas          |           15.9 |\n",
      "| Broomfield County   | Colorado       |           15.6 |\n",
      "| Bryan County        | Georgia        |           15.6 |\n",
      "| Columbia County     | Georgia        |           15.3 |\n",
      "| Crane County        | Texas          |           15.3 |\n",
      "| McMullen County     | Texas          |           15.2 |\n",
      "| Rockwall County     | Texas          |           15.1 |\n",
      "| Williamson County   | Tennessee      |           15.0 |\n",
      "| Walton County       | Florida        |           15.0 |\n",
      "| Ward County         | North Dakota   |           14.8 |\n",
      "| Canadian County     | Oklahoma       |           14.6 |\n",
      "| Horry County        | South Carolina |           14.3 |\n",
      "| Greenlee County     | Arizona        |           14.3 |\n",
      "| Travis County       | Texas          |           14.2 |\n",
      "| Cass County         | North Dakota   |           14.1 |\n",
      "| ...                 | ...            |            ... |\n"
     ]
    },
    {
     "name": "stderr",
     "output_type": "stream",
     "text": [
      "/System/Library/Frameworks/Python.framework/Versions/2.7/lib/python2.7/json/encoder.py:207: DeprecationWarning: Interpreting naive datetime as local 2017-03-06 19:32:55.619389. Please add timezone info to timestamps.\n"
     ]
    }
   ],
   "source": [
    "sorted_counties = rounded_change.order_by('change', reverse=True)\n",
    "sorted_counties.select(['county', 'state', 'change_rounded']).print_table(max_rows=50)"
   ]
  },
  {
   "cell_type": "code",
   "execution_count": 44,
   "metadata": {
    "collapsed": false
   },
   "outputs": [
    {
     "name": "stdout",
     "output_type": "stream",
     "text": [
      "| county          | state        | estimate_2010 | estimate_2011 | estimate_2012 | estimate_2013 | ... |\n",
      "| --------------- | ------------ | ------------- | ------------- | ------------- | ------------- | --- |\n",
      "| Nelson County   | North Dakota |         3,120 |         3,066 |         3,082 |         3,075 | ... |\n",
      "| Pembina County  | North Dakota |         7,399 |         7,383 |         7,261 |         7,164 | ... |\n",
      "| Emmons County   | North Dakota |         3,542 |         3,524 |         3,482 |         3,481 | ... |\n",
      "| Griggs County   | North Dakota |         2,411 |         2,372 |         2,355 |         2,291 | ... |\n",
      "| Cavalier County | North Dakota |         3,982 |         3,953 |         3,942 |         3,869 | ... |\n",
      "| Dickey County   | North Dakota |         5,285 |         5,269 |         5,249 |         5,232 | ... |\n",
      "| Logan County    | North Dakota |         1,999 |         1,970 |         1,936 |         1,935 | ... |\n",
      "| Walsh County    | North Dakota |        11,090 |        11,030 |        11,049 |        11,092 | ... |\n",
      "| McIntosh County | North Dakota |         2,796 |         2,763 |         2,757 |         2,751 | ... |\n",
      "| Traill County   | North Dakota |         8,111 |         8,048 |         8,065 |         8,196 | ... |\n",
      "| Steele County   | North Dakota |         1,976 |         2,032 |         1,995 |         1,960 | ... |\n",
      "| Kidder County   | North Dakota |         2,439 |         2,446 |         2,435 |         2,426 | ... |\n",
      "| Pierce County   | North Dakota |         4,352 |         4,379 |         4,458 |         4,440 | ... |\n",
      "| Eddy County     | North Dakota |         2,382 |         2,351 |         2,374 |         2,393 | ... |\n",
      "| Wells County    | North Dakota |         4,199 |         4,218 |         4,262 |         4,187 | ... |\n",
      "| Sheridan County | North Dakota |         1,314 |         1,313 |         1,273 |         1,317 | ... |\n",
      "| Stutsman County | North Dakota |        21,125 |        21,000 |        20,978 |        21,124 | ... |\n",
      "| LaMoure County  | North Dakota |         4,123 |         4,115 |         4,097 |         4,118 | ... |\n",
      "| Grant County    | North Dakota |         2,389 |         2,355 |         2,337 |         2,372 | ... |\n",
      "| Ransom County   | North Dakota |         5,429 |         5,418 |         5,474 |         5,490 | ... |\n",
      "| ...             | ...          |           ... |           ... |           ... |           ... | ... |\n"
     ]
    },
    {
     "name": "stderr",
     "output_type": "stream",
     "text": [
      "/System/Library/Frameworks/Python.framework/Versions/2.7/lib/python2.7/json/encoder.py:207: DeprecationWarning: Interpreting naive datetime as local 2017-03-06 20:28:55.828532. Please add timezone info to timestamps.\n"
     ]
    }
   ],
   "source": [
    "NorthDakota = sorted_counties.where(lambda r: r['state'] == 'North Dakota')\n",
    "NorthDakota_order = NorthDakota.order_by('change_rounded')\n",
    "NorthDakota_order.print_table()"
   ]
  },
  {
   "cell_type": "code",
   "execution_count": 45,
   "metadata": {
    "collapsed": false
   },
   "outputs": [
    {
     "name": "stdout",
     "output_type": "stream",
     "text": [
      "| county              | state        | estimate_2010 | estimate_2011 | estimate_2012 | estimate_2013 | ... |\n",
      "| ------------------- | ------------ | ------------- | ------------- | ------------- | ------------- | --- |\n",
      "| McKenzie County     | North Dakota |         6,399 |         7,015 |         7,969 |         9,269 | ... |\n",
      "| Gaines County       | Texas        |        17,570 |        18,021 |        18,381 |        18,846 | ... |\n",
      "| Ascension Parish    | Louisiana    |       107,849 |       110,062 |       112,227 |       114,581 | ... |\n",
      "| Hillsborough County | Florida      |     1,233,831 |     1,271,399 |     1,281,606 |     1,294,039 | ... |\n",
      "| Lafayette Parish    | Louisiana    |       222,147 |       224,315 |       227,130 |       231,466 | ... |\n",
      "| Harrison County     | Mississippi  |       187,896 |       190,940 |       193,700 |       196,533 | ... |\n",
      "| Wise County         | Texas        |        59,108 |        59,969 |        60,430 |        61,048 | ... |\n",
      "| Clay County         | Missouri     |       222,627 |       225,023 |       227,486 |       230,362 | ... |\n",
      "| Bath County         | Kentucky     |        11,613 |        11,708 |        11,797 |        11,995 | ... |\n",
      "| Union County        | Mississippi  |        27,132 |        27,323 |        27,363 |        27,772 | ... |\n",
      "| Clark County        | Indiana      |       110,557 |       111,553 |       111,908 |       112,771 | ... |\n",
      "| Gonzales County     | Texas        |        19,795 |        19,763 |        19,936 |        20,174 | ... |\n",
      "| Outagamie County    | Wisconsin    |       176,936 |       177,776 |       178,913 |       180,238 | ... |\n",
      "| Sherburne County    | Minnesota    |        88,799 |        89,286 |        89,555 |        90,251 | ... |\n",
      "| Cumberland County   | Maine        |       281,462 |       282,758 |       284,103 |       285,882 | ... |\n",
      "| Floyd County        | Indiana      |        74,708 |        75,037 |        75,355 |        76,098 | ... |\n",
      "| Gordon County       | Georgia      |        55,207 |        55,490 |        55,703 |        55,763 | ... |\n",
      "| Medina County       | Ohio         |       172,542 |       173,456 |       173,674 |       174,667 | ... |\n",
      "| Lincoln Parish      | Louisiana    |        46,863 |        47,066 |        47,088 |        47,390 | ... |\n",
      "| Albany County       | New York     |       304,069 |       305,010 |       306,419 |       307,776 | ... |\n",
      "| ...                 | ...          |           ... |           ... |           ... |           ... | ... |\n"
     ]
    },
    {
     "name": "stderr",
     "output_type": "stream",
     "text": [
      "/System/Library/Frameworks/Python.framework/Versions/2.7/lib/python2.7/json/encoder.py:207: DeprecationWarning: Interpreting naive datetime as local 2017-03-06 20:48:50.037217. Please add timezone info to timestamps.\n"
     ]
    }
   ],
   "source": [
    "nationwide = sorted_counties.order_by('change_rounded', reverse=True)\n",
    "sampled = nationwide.limit(step=50)\n",
    "sampled.print_table()"
   ]
  },
  {
   "cell_type": "code",
   "execution_count": 47,
   "metadata": {
    "collapsed": false
   },
   "outputs": [
    {
     "name": "stdout",
     "output_type": "stream",
     "text": [
      "| county               | state        | estimate_2010 | estimate_2011 | estimate_2012 | estimate_2013 | ... |\n",
      "| -------------------- | ------------ | ------------- | ------------- | ------------- | ------------- | --- |\n",
      "| Kalawao County       | Hawaii       |            90 |            90 |            89 |            89 | ... |\n",
      "| Issaquena County     | Mississippi  |         1,394 |         1,391 |         1,408 |         1,413 | ... |\n",
      "| Stanton County       | Kansas       |         2,248 |         2,219 |         2,163 |         2,166 | ... |\n",
      "| Wayne County         | Utah         |         2,765 |         2,754 |         2,725 |         2,724 | ... |\n",
      "| Bennett County       | South Dakota |         3,444 |         3,440 |         3,441 |         3,456 | ... |\n",
      "| Hardin County        | Illinois     |         4,305 |         4,282 |         4,259 |         4,246 | ... |\n",
      "| Carlisle County      | Kentucky     |         5,101 |         5,049 |         5,042 |         4,980 | ... |\n",
      "| Martin County        | Texas        |         4,816 |         4,905 |         4,993 |         5,269 | ... |\n",
      "| Hartley County       | Texas        |         6,055 |         6,081 |         6,153 |         6,061 | ... |\n",
      "| Brown County         | Illinois     |         6,913 |         6,873 |         6,891 |         6,859 | ... |\n",
      "| Rappahannock County  | Virginia     |         7,501 |         7,500 |         7,451 |         7,467 | ... |\n",
      "| Kusilvak Census Area | Alaska       |         7,464 |         7,654 |         7,790 |         7,952 | ... |\n",
      "| Gallatin County      | Kentucky     |         8,610 |         8,583 |         8,502 |         8,506 | ... |\n",
      "| Irwin County         | Georgia      |         9,600 |         9,694 |         9,604 |         9,405 | ... |\n",
      "| Webster County       | Mississippi  |        10,285 |        10,130 |        10,052 |         9,939 | ... |\n",
      "| Nowata County        | Oklahoma     |        10,513 |        10,620 |        10,586 |        10,530 | ... |\n",
      "| Morrow County        | Oregon       |        11,204 |        11,197 |        11,233 |        11,243 | ... |\n",
      "| Marion County        | Kansas       |        12,665 |        12,544 |        12,377 |        12,219 | ... |\n",
      "| Fremont County       | Idaho        |        13,241 |        13,132 |        12,991 |        12,913 | ... |\n",
      "| Glacier County       | Montana      |        13,431 |        13,563 |        13,659 |        13,793 | ... |\n",
      "| ...                  | ...          |           ... |           ... |           ... |           ... | ... |\n"
     ]
    },
    {
     "name": "stderr",
     "output_type": "stream",
     "text": [
      "/System/Library/Frameworks/Python.framework/Versions/2.7/lib/python2.7/json/encoder.py:207: DeprecationWarning: Interpreting naive datetime as local 2017-03-06 20:57:21.591951. Please add timezone info to timestamps.\n"
     ]
    }
   ],
   "source": [
    "estimate_2015 = sorted_counties.order_by('estimate_2015')\n",
    "sampled2 = estimate_2015.limit(step=50)\n",
    "sampled2.print_table()"
   ]
  },
  {
   "cell_type": "code",
   "execution_count": 48,
   "metadata": {
    "collapsed": false
   },
   "outputs": [
    {
     "name": "stderr",
     "output_type": "stream",
     "text": [
      "/System/Library/Frameworks/Python.framework/Versions/2.7/lib/python2.7/json/encoder.py:207: DeprecationWarning: Interpreting naive datetime as local 2017-03-06 21:07:12.908396. Please add timezone info to timestamps.\n"
     ]
    }
   ],
   "source": [
    "state_ord = sorted_counties.pivot('state')"
   ]
  },
  {
   "cell_type": "code",
   "execution_count": 49,
   "metadata": {
    "collapsed": false
   },
   "outputs": [
    {
     "name": "stdout",
     "output_type": "stream",
     "text": [
      "| state          | Count |\n",
      "| -------------- | ----- |\n",
      "| North Dakota   |    53 |\n",
      "| Texas          |   254 |\n",
      "| Florida        |    67 |\n",
      "| Utah           |    29 |\n",
      "| Louisiana      |    64 |\n",
      "| Montana        |    56 |\n",
      "| Georgia        |   159 |\n",
      "| Iowa           |    99 |\n",
      "| Virginia       |   133 |\n",
      "| South Dakota   |    66 |\n",
      "| Colorado       |    64 |\n",
      "| Tennessee      |    95 |\n",
      "| Oklahoma       |    77 |\n",
      "| South Carolina |    46 |\n",
      "| Arizona        |    15 |\n",
      "| North Carolina |   100 |\n",
      "| Nebraska       |    93 |\n",
      "| Alaska         |    29 |\n",
      "| Washington     |    39 |\n",
      "| Indiana        |    92 |\n",
      "| ...            |   ... |\n"
     ]
    },
    {
     "name": "stderr",
     "output_type": "stream",
     "text": [
      "/System/Library/Frameworks/Python.framework/Versions/2.7/lib/python2.7/json/encoder.py:207: DeprecationWarning: Interpreting naive datetime as local 2017-03-06 21:07:25.023583. Please add timezone info to timestamps.\n"
     ]
    }
   ],
   "source": [
    "state_ord.print_table()"
   ]
  },
  {
   "cell_type": "code",
   "execution_count": 59,
   "metadata": {
    "collapsed": false
   },
   "outputs": [
    {
     "name": "stderr",
     "output_type": "stream",
     "text": [
      "/System/Library/Frameworks/Python.framework/Versions/2.7/lib/python2.7/json/encoder.py:207: DeprecationWarning: Interpreting naive datetime as local 2017-03-06 21:16:47.935528. Please add timezone info to timestamps.\n"
     ]
    }
   ],
   "source": [
    "states = sorted_counties.group_by('state')"
   ]
  },
  {
   "cell_type": "code",
   "execution_count": 61,
   "metadata": {
    "collapsed": false
   },
   "outputs": [
    {
     "name": "stderr",
     "output_type": "stream",
     "text": [
      "/System/Library/Frameworks/Python.framework/Versions/2.7/lib/python2.7/json/encoder.py:207: DeprecationWarning: Interpreting naive datetime as local 2017-03-06 21:24:33.000510. Please add timezone info to timestamps.\n"
     ]
    }
   ],
   "source": [
    "change_avg = states.aggregate([('change_mean', agate.Mean('change_rounded'))])"
   ]
  },
  {
   "cell_type": "code",
   "execution_count": 65,
   "metadata": {
    "collapsed": false
   },
   "outputs": [
    {
     "name": "stdout",
     "output_type": "stream",
     "text": [
      "| state          | change_mean |\n",
      "| -------------- | ----------- |\n",
      "| North Dakota   |      7.789… |\n",
      "| Texas          |      2.587… |\n",
      "| Florida        |      4.467… |\n",
      "| Utah           |      4.945… |\n",
      "| Louisiana      |      0.212… |\n",
      "| Montana        |      2.246… |\n",
      "| Georgia        |      0.653… |\n",
      "| Iowa           |     -0.818… |\n",
      "| Virginia       |      1.370… |\n",
      "| South Dakota   |      1.295… |\n",
      "| Colorado       |      1.931… |\n",
      "| Tennessee      |      1.281… |\n",
      "| Oklahoma       |      1.030… |\n",
      "| South Carolina |      1.263… |\n",
      "| Arizona        |      2.740… |\n",
      "| North Carolina |      1.262… |\n",
      "| Nebraska       |     -1.297… |\n",
      "| Alaska         |      1.600… |\n",
      "| Washington     |      3.074… |\n",
      "| Indiana        |      0.021… |\n",
      "| ...            |         ... |\n"
     ]
    },
    {
     "name": "stderr",
     "output_type": "stream",
     "text": [
      "/System/Library/Frameworks/Python.framework/Versions/2.7/lib/python2.7/json/encoder.py:207: DeprecationWarning: Interpreting naive datetime as local 2017-03-06 21:27:02.823224. Please add timezone info to timestamps.\n"
     ]
    }
   ],
   "source": [
    "change_avg.print_table()"
   ]
  },
  {
   "cell_type": "code",
   "execution_count": null,
   "metadata": {
    "collapsed": true
   },
   "outputs": [],
   "source": [
    "change_avg = "
   ]
  }
 ],
 "metadata": {
  "kernelspec": {
   "display_name": "Python 2",
   "language": "python",
   "name": "python2"
  },
  "language_info": {
   "codemirror_mode": {
    "name": "ipython",
    "version": 2
   },
   "file_extension": ".py",
   "mimetype": "text/x-python",
   "name": "python",
   "nbconvert_exporter": "python",
   "pygments_lexer": "ipython2",
   "version": "2.7.10"
  }
 },
 "nbformat": 4,
 "nbformat_minor": 2
}
